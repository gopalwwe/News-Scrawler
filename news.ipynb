{
 "cells": [
  {
   "cell_type": "code",
   "execution_count": 16,
   "id": "bb34f1d3",
   "metadata": {},
   "outputs": [
    {
     "name": "stdout",
     "output_type": "stream",
     "text": [
      "Requirement already satisfied: NewsApi-python in c:\\users\\admin\\anaconda3\\lib\\site-packages (0.2.6)\n",
      "Note: you may need to restart the kernel to use updated packages.Requirement already satisfied: requests<3.0.0 in c:\\users\\admin\\anaconda3\\lib\\site-packages (from NewsApi-python) (2.27.1)\n",
      "Requirement already satisfied: urllib3<1.27,>=1.21.1 in c:\\users\\admin\\anaconda3\\lib\\site-packages (from requests<3.0.0->NewsApi-python) (1.26.9)\n",
      "Requirement already satisfied: certifi>=2017.4.17 in c:\\users\\admin\\anaconda3\\lib\\site-packages (from requests<3.0.0->NewsApi-python) (2021.10.8)\n",
      "Requirement already satisfied: charset-normalizer~=2.0.0 in c:\\users\\admin\\anaconda3\\lib\\site-packages (from requests<3.0.0->NewsApi-python) (2.0.4)\n",
      "Requirement already satisfied: idna<4,>=2.5 in c:\\users\\admin\\anaconda3\\lib\\site-packages (from requests<3.0.0->NewsApi-python) (3.3)\n",
      "\n"
     ]
    }
   ],
   "source": [
    "pip install NewsApi-python"
   ]
  },
  {
   "cell_type": "code",
   "execution_count": 17,
   "id": "5ccbd446",
   "metadata": {},
   "outputs": [],
   "source": [
    "from ipywidgets import widgets\n",
    "from ipywidgets import *\n",
    "from traitlets import *\n",
    "from IPython.display import display, Markdown\n",
    "import unicodedata\n",
    "from newsapi import NewsApiClient\n",
    "import requests\n",
    "from bs4 import BeautifulSoup"
   ]
  },
  {
   "cell_type": "code",
   "execution_count": 18,
   "id": "0fa279aa",
   "metadata": {},
   "outputs": [
    {
     "data": {
      "text/plain": [
       "{'status': 'ok',\n",
       " 'totalResults': 2,\n",
       " 'articles': [{'source': {'id': 'cnn', 'name': 'CNN'},\n",
       "   'author': 'Rosa Prince',\n",
       "   'title': 'Opinion: In melting Britain, a kind of madness takes over',\n",
       "   'description': \"Welcome to Britain, where this week urban fires spontaneously erupted, the Queen's guards melted under bearskins, trains ground to a halt and Members of Parliament -- grudgingly -- removed their jackets, writes Rosa Prince.\",\n",
       "   'url': 'https://www.cnn.com/2022/07/20/opinions/uk-britain-heatwave-hot-weather-prince/index.html',\n",
       "   'urlToImage': 'https://media.cnn.com/api/v1/images/stellar/prod/220720111215-01-uk-heatwave-cultural.jpg?c=16x9&q=w_800,c_fill',\n",
       "   'publishedAt': '2022-07-20T12:25:31Z',\n",
       "   'content': 'Editors Note: Rosa Prince is editor of The House magazine. She is the former assistant political editor of The Daily Telegraph and author of the books Theresa May: The Enigmatic Prime Minister and Co… [+4647 chars]'},\n",
       "  {'source': {'id': 'cnn', 'name': 'CNN'},\n",
       "   'author': 'Story by Reuters',\n",
       "   'title': \"Pakistan election agency rules former Prime Minister Imran Khan's party got illegal funds\",\n",
       "   'description': \"Pakistan's election commission ruled on Tuesday that former Prime Minister Imran Khan's political party received millions of dollars in illegal funds from foreign countries, including the United States, the United Arab Emirates, the UK, and Australia.\",\n",
       "   'url': 'https://www.cnn.com/2022/08/03/asia/pakistan-imran-khan-illegal-funds-election-agency-intl-hnk/index.html',\n",
       "   'urlToImage': 'https://media.cnn.com/api/v1/images/stellar/prod/220803030508-pakistans-prime-minister-imran-khan-052622.jpg?c=16x9&q=w_800,c_fill',\n",
       "   'publishedAt': '2022-08-03T04:40:28Z',\n",
       "   'content': 'Islamabad, PakistanReuters\\r\\n \\xa0—\\xa0\\r\\nPakistans election commission ruled on Tuesday that former Prime Minister Imran Khans political party received millions of dollars in illegal funds from foreign coun… [+2728 chars]'}]}"
      ]
     },
     "metadata": {},
     "output_type": "display_data"
    }
   ],
   "source": [
    "newsapi = NewsApiClient(api_key='9d6fcf2ef67848f8904c7ba05b946cba')\n",
    "all_articles = newsapi.get_everything(q = 'cricket',\n",
    "                                      language='en',\n",
    "                                      sources='CNN',\n",
    "                                      sort_by = 'relevancy',\n",
    "                                      page_size = 10)\n",
    "display(all_articles)"
   ]
  },
  {
   "cell_type": "code",
   "execution_count": 19,
   "id": "2d286c5c",
   "metadata": {},
   "outputs": [
    {
     "data": {
      "text/plain": [
       "[b'https://www.cnn.com/2022/07/20/opinions/uk-britain-heatwave-hot-weather-prince/index.html',\n",
       " b'https://www.cnn.com/2022/08/03/asia/pakistan-imran-khan-illegal-funds-election-agency-intl-hnk/index.html']"
      ]
     },
     "metadata": {},
     "output_type": "display_data"
    }
   ],
   "source": [
    "list_url = []\n",
    "for item in all_articles['articles']:\n",
    "    list_url.append(unicodedata.normalize('NFKD', item['url']).encode('ascii','ignore'))\n",
    "display(list_url)"
   ]
  },
  {
   "cell_type": "code",
   "execution_count": 20,
   "id": "0498918a",
   "metadata": {},
   "outputs": [],
   "source": [
    "article_content = []\n",
    "for i in list_url:\n",
    "    page = requests.get(i)\n",
    "    soup = BeautifulSoup(page.content, 'html.parser')\n",
    "    content = soup.find_all(['p'])\n",
    "    for line in content:\n",
    "        line_string = unicodedata.normalize('NFKD', line.get_text()).encode('ascii','ignore')\n",
    "        if (len(line_string)>20):\n",
    "            article_content.append(line_string)\n",
    "    article_content.append(',')"
   ]
  },
  {
   "cell_type": "code",
   "execution_count": 21,
   "id": "0090e895",
   "metadata": {},
   "outputs": [
    {
     "data": {
      "text/markdown": [
       "# Article 1"
      ],
      "text/plain": [
       "<IPython.core.display.Markdown object>"
      ]
     },
     "metadata": {},
     "output_type": "display_data"
    },
    {
     "data": {
      "text/plain": [
       "b'Opinion by Rosa Prince'"
      ]
     },
     "metadata": {},
     "output_type": "display_data"
    },
    {
     "data": {
      "text/plain": [
       "b'Updated 2225 GMT (0625 HKT) July 20, 2022 '"
      ]
     },
     "metadata": {},
     "output_type": "display_data"
    },
    {
     "data": {
      "text/plain": [
       "b'Rosa Prince is editor of The House magazine. She is the former assistant political editor of The Daily Telegraph and author of the books \"Theresa May: The Enigmatic Prime Minister\" \"and \"Comrade Corbyn: A Very Unlikely Coup.\" The views expressed in this commentary are her own. View more opinion on CNN.'"
      ]
     },
     "metadata": {},
     "output_type": "display_data"
    },
    {
     "data": {
      "text/plain": [
       "b' (CNN)In homes swaddled in velvet curtains and where even the lavatories may be carpeted, where showers can be a challenge to centuries-old pipes, and iced tea is a contradiction in terms -- hot is really horrid.  '"
      ]
     },
     "metadata": {},
     "output_type": "display_data"
    },
    {
     "data": {
      "text/plain": [
       "b\"Sign up for CNN Opinion's newsletter.\""
      ]
     },
     "metadata": {},
     "output_type": "display_data"
    },
    {
     "data": {
      "text/plain": [
       "b'Join us on Twitter and Facebook'"
      ]
     },
     "metadata": {},
     "output_type": "display_data"
    },
    {
     "data": {
      "text/markdown": [
       "# Article 2"
      ],
      "text/plain": [
       "<IPython.core.display.Markdown object>"
      ]
     },
     "metadata": {},
     "output_type": "display_data"
    },
    {
     "data": {
      "text/plain": [
       "b'Updated 0440 GMT (1240 HKT) August 3, 2022 '"
      ]
     },
     "metadata": {},
     "output_type": "display_data"
    },
    {
     "data": {
      "text/plain": [
       "b\"Islamabad, Pakistan (Reuters)Pakistan's election commission ruled on Tuesday that former Prime Minister Imran Khan's political party received millions of dollars in illegal funds from foreign countries, including the United States, the United Arab Emirates, the UK, and Australia.\""
      ]
     },
     "metadata": {},
     "output_type": "display_data"
    },
    {
     "data": {
      "text/markdown": [
       "# Article 3"
      ],
      "text/plain": [
       "<IPython.core.display.Markdown object>"
      ]
     },
     "metadata": {},
     "output_type": "display_data"
    }
   ],
   "source": [
    "counter = 1\n",
    "display(Markdown(\"# Article \" + str(counter)))\n",
    "for line in article_content:\n",
    "    if(line == ','):\n",
    "        counter = counter + 1\n",
    "        if (not(counter<=10)):\n",
    "            break;\n",
    "        display(Markdown(\"# Article \" + str(counter)))\n",
    "        continue\n",
    "    display(line)"
   ]
  },
  {
   "cell_type": "code",
   "execution_count": null,
   "id": "895aa243",
   "metadata": {},
   "outputs": [],
   "source": []
  }
 ],
 "metadata": {
  "kernelspec": {
   "display_name": "Python 3 (ipykernel)",
   "language": "python",
   "name": "python3"
  },
  "language_info": {
   "codemirror_mode": {
    "name": "ipython",
    "version": 3
   },
   "file_extension": ".py",
   "mimetype": "text/x-python",
   "name": "python",
   "nbconvert_exporter": "python",
   "pygments_lexer": "ipython3",
   "version": "3.9.12"
  }
 },
 "nbformat": 4,
 "nbformat_minor": 5
}
